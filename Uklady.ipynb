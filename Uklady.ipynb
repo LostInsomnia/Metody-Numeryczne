{
 "cells": [
  {
   "cell_type": "code",
   "execution_count": 38,
   "id": "b6244de6",
   "metadata": {},
   "outputs": [],
   "source": [
    "import math\n",
    "import numpy as np"
   ]
  },
  {
   "cell_type": "code",
   "execution_count": 39,
   "id": "c3a47f1e",
   "metadata": {},
   "outputs": [
    {
     "name": "stdout",
     "output_type": "stream",
     "text": [
      "-2\n"
     ]
    }
   ],
   "source": [
    "r1 = [9,1,-2,2,-2]\n",
    "r2 = [1,-9,-2,3,2]\n",
    "r3 = [2,-2,8,-2,1]\n",
    "r4 = [4,2,-3,12,-1]\n",
    "r5 = [2,2,-1,1,16]\n",
    "b = [7,-15,19,22,21]\n",
    "\n",
    "a = np.array([r1,r2,r3,r4,r5])\n",
    "\n",
    "print(a[0,2])"
   ]
  },
  {
   "cell_type": "code",
   "execution_count": 40,
   "id": "a37f91f0",
   "metadata": {},
   "outputs": [],
   "source": [
    "beta = np.zeros(5)\n",
    "x=np.zeros(5)\n",
    "\n",
    " "
   ]
  },
  {
   "cell_type": "code",
   "execution_count": 41,
   "id": "69b80c25",
   "metadata": {},
   "outputs": [
    {
     "name": "stdout",
     "output_type": "stream",
     "text": [
      "[1. 2. 3. 2. 1.]\n"
     ]
    }
   ],
   "source": [
    "alpha = np.zeros(25).reshape(5,5)\n",
    "j=0\n",
    "while j <30:    \n",
    "    ai = 0\n",
    "    bi = 0\n",
    "\n",
    "    i = 0\n",
    "    for bb in b:\n",
    "        beta[i] = bb/a[i,i]\n",
    "        i+=1\n",
    "\n",
    "    for aa in a:\n",
    "        for bb in b:\n",
    "            if ai != bi:\n",
    "                alpha[ai,bi] = -a[ai,bi]/a[ai,ai]\n",
    "            bi+=1\n",
    "        ai+=1\n",
    "        bi = 0\n",
    "\n",
    "    x = alpha@x + beta \n",
    "    j+=1\n",
    "print(x)   \n",
    "\n"
   ]
  },
  {
   "cell_type": "code",
   "execution_count": 42,
   "id": "6a821f30",
   "metadata": {},
   "outputs": [
    {
     "data": {
      "text/plain": [
       "array([1., 2., 3., 2., 1.])"
      ]
     },
     "execution_count": 42,
     "metadata": {},
     "output_type": "execute_result"
    }
   ],
   "source": [
    "np.linalg.solve(a,b)"
   ]
  },
  {
   "cell_type": "code",
   "execution_count": null,
   "id": "1e2d209f",
   "metadata": {},
   "outputs": [],
   "source": []
  },
  {
   "cell_type": "code",
   "execution_count": null,
   "id": "bd139554",
   "metadata": {},
   "outputs": [],
   "source": []
  },
  {
   "cell_type": "code",
   "execution_count": null,
   "id": "088a2b47",
   "metadata": {},
   "outputs": [],
   "source": []
  }
 ],
 "metadata": {
  "kernelspec": {
   "display_name": "Python 3 (ipykernel)",
   "language": "python",
   "name": "python3"
  },
  "language_info": {
   "codemirror_mode": {
    "name": "ipython",
    "version": 3
   },
   "file_extension": ".py",
   "mimetype": "text/x-python",
   "name": "python",
   "nbconvert_exporter": "python",
   "pygments_lexer": "ipython3",
   "version": "3.11.2"
  }
 },
 "nbformat": 4,
 "nbformat_minor": 5
}
